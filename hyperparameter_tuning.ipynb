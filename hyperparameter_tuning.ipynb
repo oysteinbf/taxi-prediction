{
 "cells": [
  {
   "cell_type": "markdown",
   "metadata": {},
   "source": [
    "Hyper-parameter tuning\n",
    "---\n",
    "\n",
    "Classic approach: https://scikit-learn.org/stable/modules/grid_search.html\n",
    "\n",
    "Tips on LightGBM parameter tuning: https://lightgbm.readthedocs.io/en/latest/Parameters-Tuning.html\n",
    "\n",
    "To do:\n",
    "1. Find out which parameters in LightGBM that are important\n",
    "2. Do a random search\n",
    "3. Do a specified grid search\n",
    "4. Then Bayesian optimization could be tried, see e.g. [link1](https://thuijskens.github.io/2016/12/29/bayesian-optimisation/), [link2](https://towardsdatascience.com/a-conceptual-explanation-of-bayesian-model-based-hyperparameter-optimization-for-machine-learning-b8172278050f) or  [link3](https://districtdatalabs.silvrback.com/parameter-tuning-with-hyperopt)\n",
    "\n",
    "### Information on some of the important LightGBM parameters, ref. [this](https://sites.google.com/view/lauraepp/parameters) link:\n",
    "\n",
    "#### max_depth\n",
    "\n",
    "*Behavior*\n",
    "\n",
    "Larger is usually better, but overfitting speed increases.\n",
    "Typical: 6, usually [3, 12].\n",
    "Tips: use unlimited depth when needing deep branched trees.\n",
    "\n",
    "*LightGBM Specific*\n",
    "\n",
    "Special default value for LightGBM max_depth = -1 for infinite depth.\n",
    "Defaults to -1.\n",
    "\n",
    "*Beliefs*\n",
    "\n",
    "Unlimited depth is essential for training models whose branching is one-sided (instead of balanced branching).\n",
    "Such as for long chain of features, like 50 to get to the expected real rule.\n",
    "\n",
    "*Details*\n",
    "\n",
    "Each model trained at each iteration will have that maximum depth and cannot bypass it.\n",
    "As the maximum depth increases, the model is able to fit better the training data.\n",
    "However, fitting better the training data does not cause 100% generalization to the validation data.\n",
    "**In addition, this is the most sensible hyperparameter for gradient boosting: tune this first.**\n",
    "xgboost lossguide training allows 0 depth training (unlimited depth).\n",
    "LightGBM training allows -1 depth training (unlimited depth).\n",
    "The maximum leaves allowed, if depth is not unlimited, is equal to 2^depth - 1 (ex: a maximum depth of 10 leads to a maximum of 1023 leaves) \n",
    "\n",
    "\n",
    "#### num_leaves\n",
    "\n",
    "*Behavior*\n",
    "\n",
    "Larger is usually better, but overfitting speed increases.\n",
    "Typical: 255, usually {15, 31, 63, 127, 255, 511, 1023, 2047, 4095}.\n",
    "Tips: adjust depth accordingly by allowing a slightly higher depth than the theoretical number of leaves.\n",
    "\n",
    "*LightGBM Specific*\n",
    "\n",
    "On LightGBM, the maximum leaves must be tuned with the maximum depth together.\n",
    "To get xgboost behavior, set the maximum leaves to 2^depth - 1.\n",
    "Defaults to 31.\n",
    "\n",
    "*Beliefs*\n",
    "\n",
    "Restricting the number of leaves acts as a regularization in order to not grow very deep trees.\n",
    "It also prevents from growing gigantic trees when the maximum depth is large (if not unlimited).\n",
    "\n",
    "*Details*\n",
    "\n",
    "Each model trained at each iteration will have that maximum leaves and cannot bypass it.\n",
    "As the maximum leaves increases, the model is able to fit better the training data.\n",
    "However, fitting better the training data does not cause 100% generalization to the validation data.\n",
    "**In addition, this is the second most sensible hyperparameter for gradient boosting: tune it with the maximum depth.**\n",
    "\n",
    "#### min_data_in_leaf\n",
    "\n",
    "*Behavior*\n",
    "\n",
    "Smaller/Larger is not always better.\n",
    "Typical: 100.\n",
    "**Tips: leave it alone unless you know what you are doing.**\n",
    "\n",
    "*LightGBM Specific*\n",
    "\n",
    "The default value is 20 for LightGBM, which is too large when the dataset gets smaller.\n",
    "It is recommended to lower that value for small datasets (like 100 observations), and to increase it (if needed) on large datasets.\n",
    "If you do not know what you are doing, set it to 1 to behave like xgboost.\n",
    "Defaults to 20.\n",
    "\n",
    "*Beliefs*\n",
    "\n",
    "Adding pruning threshold is not always better.\n",
    "The regularization scaling is dataset-dependent and weight-dependent.\n",
    "\n",
    "#### learning_rate\n",
    "\n",
    "*Behavior*\n",
    "\n",
    "Smaller is usually better.\n",
    "Typical: 0.05.\n",
    "**Tips: set this larger for hyperparameter tuning.**\n",
    "\n",
    "*Beliefs*\n",
    "\n",
    "Once your learning rate is fixed, do not change it.\n",
    "It is not a good practice to consider the learning rate as a hyperparameter to tune.\n",
    "Learning rate should be tuned according to your training speed and performance tradeoff.\n",
    "\n",
    "Other interesting parameters are for instance num_iterations and boosting type."
   ]
  },
  {
   "cell_type": "code",
   "execution_count": 1,
   "metadata": {},
   "outputs": [],
   "source": [
    "import pandas as pd\n",
    "import numpy as np\n",
    "import matplotlib.pyplot as plt\n",
    "import seaborn as sns\n",
    "from sklearn.ensemble import RandomForestRegressor\n",
    "from sklearn.metrics import r2_score, mean_absolute_error, mean_squared_error\n",
    "from sklearn.pipeline import Pipeline\n",
    "from sklearn.preprocessing import StandardScaler\n",
    "from sklearn import linear_model\n",
    "from sklearn.model_selection import learning_curve, ShuffleSplit\n",
    "from sklearn.model_selection import RandomizedSearchCV, GridSearchCV, ParameterGrid\n",
    "\n",
    "import lightgbm as lgb\n",
    "\n",
    "import warnings\n",
    "warnings.filterwarnings('ignore')"
   ]
  },
  {
   "cell_type": "code",
   "execution_count": 2,
   "metadata": {},
   "outputs": [
    {
     "name": "stdout",
     "output_type": "stream",
     "text": [
      "97481\n"
     ]
    },
    {
     "data": {
      "text/html": [
       "<div>\n",
       "<style scoped>\n",
       "    .dataframe tbody tr th:only-of-type {\n",
       "        vertical-align: middle;\n",
       "    }\n",
       "\n",
       "    .dataframe tbody tr th {\n",
       "        vertical-align: top;\n",
       "    }\n",
       "\n",
       "    .dataframe thead th {\n",
       "        text-align: right;\n",
       "    }\n",
       "</style>\n",
       "<table border=\"1\" class=\"dataframe\">\n",
       "  <thead>\n",
       "    <tr style=\"text-align: right;\">\n",
       "      <th></th>\n",
       "      <th>fare_amount</th>\n",
       "      <th>pickup_datetime</th>\n",
       "      <th>pickup_longitude</th>\n",
       "      <th>pickup_latitude</th>\n",
       "      <th>passenger_count</th>\n",
       "      <th>geometry_pickup</th>\n",
       "      <th>zone_pickup</th>\n",
       "      <th>borough_pickup</th>\n",
       "      <th>dropoff_longitude</th>\n",
       "      <th>dropoff_latitude</th>\n",
       "      <th>...</th>\n",
       "      <th>JFK_airport</th>\n",
       "      <th>Newark_airport</th>\n",
       "      <th>LaGuardia_airport</th>\n",
       "      <th>is_north</th>\n",
       "      <th>dist_pickup_JFK</th>\n",
       "      <th>dist_pickup_LGA</th>\n",
       "      <th>dist_pickup_EWR</th>\n",
       "      <th>dist_dropoff_JFK</th>\n",
       "      <th>dist_dropoff_LGA</th>\n",
       "      <th>dist_dropoff_EWR</th>\n",
       "    </tr>\n",
       "  </thead>\n",
       "  <tbody>\n",
       "    <tr>\n",
       "      <th>99995</th>\n",
       "      <td>9.000000</td>\n",
       "      <td>2013-09-24 07:39:00</td>\n",
       "      <td>-73.947975</td>\n",
       "      <td>40.784794</td>\n",
       "      <td>5</td>\n",
       "      <td>POINT (-73.94797515869141 40.78479385375977)</td>\n",
       "      <td>East Harlem South</td>\n",
       "      <td>Manhattan</td>\n",
       "      <td>-73.964264</td>\n",
       "      <td>40.792347</td>\n",
       "      <td>...</td>\n",
       "      <td>0</td>\n",
       "      <td>0</td>\n",
       "      <td>0</td>\n",
       "      <td>0</td>\n",
       "      <td>0.217867</td>\n",
       "      <td>0.076776</td>\n",
       "      <td>0.247843</td>\n",
       "      <td>0.235218</td>\n",
       "      <td>0.094074</td>\n",
       "      <td>0.236021</td>\n",
       "    </tr>\n",
       "    <tr>\n",
       "      <th>99996</th>\n",
       "      <td>6.000000</td>\n",
       "      <td>2014-05-15 12:15:45</td>\n",
       "      <td>-73.962921</td>\n",
       "      <td>40.799107</td>\n",
       "      <td>1</td>\n",
       "      <td>POINT (-73.96292114257812 40.79910659790039)</td>\n",
       "      <td>Manhattan Valley</td>\n",
       "      <td>Manhattan</td>\n",
       "      <td>-73.974174</td>\n",
       "      <td>40.786488</td>\n",
       "      <td>...</td>\n",
       "      <td>0</td>\n",
       "      <td>0</td>\n",
       "      <td>0</td>\n",
       "      <td>0</td>\n",
       "      <td>0.238528</td>\n",
       "      <td>0.094282</td>\n",
       "      <td>0.240212</td>\n",
       "      <td>0.239437</td>\n",
       "      <td>0.102984</td>\n",
       "      <td>0.224555</td>\n",
       "    </tr>\n",
       "    <tr>\n",
       "      <th>99997</th>\n",
       "      <td>5.000000</td>\n",
       "      <td>2015-02-19 17:40:43</td>\n",
       "      <td>-73.996773</td>\n",
       "      <td>40.723549</td>\n",
       "      <td>1</td>\n",
       "      <td>POINT (-73.99677276611328 40.72354888916016)</td>\n",
       "      <td>Little Italy/NoLiTa</td>\n",
       "      <td>Manhattan</td>\n",
       "      <td>-73.991974</td>\n",
       "      <td>40.724724</td>\n",
       "      <td>...</td>\n",
       "      <td>0</td>\n",
       "      <td>0</td>\n",
       "      <td>0</td>\n",
       "      <td>0</td>\n",
       "      <td>0.229151</td>\n",
       "      <td>0.134929</td>\n",
       "      <td>0.183412</td>\n",
       "      <td>0.225080</td>\n",
       "      <td>0.130044</td>\n",
       "      <td>0.188344</td>\n",
       "    </tr>\n",
       "    <tr>\n",
       "      <th>99998</th>\n",
       "      <td>6.898438</td>\n",
       "      <td>2009-10-10 23:35:00</td>\n",
       "      <td>-73.983650</td>\n",
       "      <td>40.756668</td>\n",
       "      <td>4</td>\n",
       "      <td>POINT (-73.98365020751953 40.75666809082031)</td>\n",
       "      <td>Times Sq/Theatre District</td>\n",
       "      <td>Manhattan</td>\n",
       "      <td>-73.982712</td>\n",
       "      <td>40.767067</td>\n",
       "      <td>...</td>\n",
       "      <td>0</td>\n",
       "      <td>0</td>\n",
       "      <td>0</td>\n",
       "      <td>0</td>\n",
       "      <td>0.231157</td>\n",
       "      <td>0.113203</td>\n",
       "      <td>0.204530</td>\n",
       "      <td>0.235615</td>\n",
       "      <td>0.111090</td>\n",
       "      <td>0.208999</td>\n",
       "    </tr>\n",
       "    <tr>\n",
       "      <th>99999</th>\n",
       "      <td>5.699219</td>\n",
       "      <td>2010-11-09 16:09:00</td>\n",
       "      <td>-73.975662</td>\n",
       "      <td>40.791653</td>\n",
       "      <td>1</td>\n",
       "      <td>POINT (-73.97566223144531 40.79165267944336)</td>\n",
       "      <td>Upper West Side North</td>\n",
       "      <td>Manhattan</td>\n",
       "      <td>-73.982269</td>\n",
       "      <td>40.774967</td>\n",
       "      <td>...</td>\n",
       "      <td>0</td>\n",
       "      <td>0</td>\n",
       "      <td>0</td>\n",
       "      <td>0</td>\n",
       "      <td>0.243734</td>\n",
       "      <td>0.105175</td>\n",
       "      <td>0.225480</td>\n",
       "      <td>0.239477</td>\n",
       "      <td>0.110392</td>\n",
       "      <td>0.212426</td>\n",
       "    </tr>\n",
       "  </tbody>\n",
       "</table>\n",
       "<p>5 rows × 44 columns</p>\n",
       "</div>"
      ],
      "text/plain": [
       "       fare_amount     pickup_datetime  pickup_longitude  pickup_latitude  \\\n",
       "99995     9.000000 2013-09-24 07:39:00        -73.947975        40.784794   \n",
       "99996     6.000000 2014-05-15 12:15:45        -73.962921        40.799107   \n",
       "99997     5.000000 2015-02-19 17:40:43        -73.996773        40.723549   \n",
       "99998     6.898438 2009-10-10 23:35:00        -73.983650        40.756668   \n",
       "99999     5.699219 2010-11-09 16:09:00        -73.975662        40.791653   \n",
       "\n",
       "       passenger_count                               geometry_pickup  \\\n",
       "99995                5  POINT (-73.94797515869141 40.78479385375977)   \n",
       "99996                1  POINT (-73.96292114257812 40.79910659790039)   \n",
       "99997                1  POINT (-73.99677276611328 40.72354888916016)   \n",
       "99998                4  POINT (-73.98365020751953 40.75666809082031)   \n",
       "99999                1  POINT (-73.97566223144531 40.79165267944336)   \n",
       "\n",
       "                     zone_pickup borough_pickup  dropoff_longitude  \\\n",
       "99995          East Harlem South      Manhattan         -73.964264   \n",
       "99996           Manhattan Valley      Manhattan         -73.974174   \n",
       "99997        Little Italy/NoLiTa      Manhattan         -73.991974   \n",
       "99998  Times Sq/Theatre District      Manhattan         -73.982712   \n",
       "99999      Upper West Side North      Manhattan         -73.982269   \n",
       "\n",
       "       dropoff_latitude        ...        JFK_airport Newark_airport  \\\n",
       "99995         40.792347        ...                  0              0   \n",
       "99996         40.786488        ...                  0              0   \n",
       "99997         40.724724        ...                  0              0   \n",
       "99998         40.767067        ...                  0              0   \n",
       "99999         40.774967        ...                  0              0   \n",
       "\n",
       "      LaGuardia_airport is_north  dist_pickup_JFK  dist_pickup_LGA  \\\n",
       "99995                 0        0         0.217867         0.076776   \n",
       "99996                 0        0         0.238528         0.094282   \n",
       "99997                 0        0         0.229151         0.134929   \n",
       "99998                 0        0         0.231157         0.113203   \n",
       "99999                 0        0         0.243734         0.105175   \n",
       "\n",
       "       dist_pickup_EWR  dist_dropoff_JFK  dist_dropoff_LGA  dist_dropoff_EWR  \n",
       "99995         0.247843          0.235218          0.094074          0.236021  \n",
       "99996         0.240212          0.239437          0.102984          0.224555  \n",
       "99997         0.183412          0.225080          0.130044          0.188344  \n",
       "99998         0.204530          0.235615          0.111090          0.208999  \n",
       "99999         0.225480          0.239477          0.110392          0.212426  \n",
       "\n",
       "[5 rows x 44 columns]"
      ]
     },
     "execution_count": 2,
     "metadata": {},
     "output_type": "execute_result"
    }
   ],
   "source": [
    "df = pd.read_pickle('data/processed/gdf.pkl')\n",
    "print(len(df))\n",
    "#df = df.iloc[0:50000] #For quicker training when testing\n",
    "df.tail()"
   ]
  },
  {
   "cell_type": "markdown",
   "metadata": {},
   "source": [
    "LightGBM can use categorical features as input directly. It doesn’t need to convert to one-hot coding, and is much faster than one-hot coding (about 8x speed-up), ref. the [docs](https://lightgbm.readthedocs.io/en/latest/Python-Intro.html)."
   ]
  },
  {
   "cell_type": "code",
   "execution_count": 3,
   "metadata": {},
   "outputs": [],
   "source": [
    "#Note: You should convert your categorical features to int type before you construct Dataset\n",
    "#https://stackoverflow.com/questions/32011359/convert-categorical-data-in-pandas-dataframe\n",
    "df['borough_pickup'] = df['borough_pickup'].astype('category')\n",
    "df['borough_dropoff'] = df['borough_dropoff'].astype('category')\n",
    "df['weekday'] = df['weekday'].astype('category')\n",
    "#Save mapping dictionaries for later extraction of strings. e.g. by:\n",
    "#df.weekday.map(w_dict).head()\n",
    "bp_dict=dict( enumerate(df['borough_pickup'].cat.categories) )\n",
    "bd_dict=dict( enumerate(df['borough_dropoff'].cat.categories) )\n",
    "w_dict=dict( enumerate(df['weekday'].cat.categories) )\n",
    "cat_columns = df.select_dtypes(['category']).columns\n",
    "#Convert to int:\n",
    "df[cat_columns] = df[cat_columns].apply(lambda x: x.cat.codes)"
   ]
  },
  {
   "cell_type": "code",
   "execution_count": 4,
   "metadata": {},
   "outputs": [
    {
     "data": {
      "text/plain": [
       "fare_amount                          float16\n",
       "pickup_datetime               datetime64[ns]\n",
       "pickup_longitude                     float32\n",
       "pickup_latitude                      float32\n",
       "passenger_count                        uint8\n",
       "geometry_pickup                       object\n",
       "zone_pickup                           object\n",
       "borough_pickup                          int8\n",
       "dropoff_longitude                    float32\n",
       "dropoff_latitude                     float32\n",
       "geometry_dropoff                      object\n",
       "zone_dropoff                          object\n",
       "borough_dropoff                         int8\n",
       "taxi_line                             object\n",
       "pickup_Manhattan_South                  bool\n",
       "dropoff_Manhattan_South                 bool\n",
       "pickup_Manhattan_North                  bool\n",
       "dropoff_Manhattan_North                 bool\n",
       "pickup_Manhattan_MNorth                 bool\n",
       "dropoff_Manhattan_MNorth                bool\n",
       "pickup_Manhattan_MSouth                 bool\n",
       "dropoff_Manhattan_MSouth                bool\n",
       "year                                   int64\n",
       "month                                  int64\n",
       "weekday                                 int8\n",
       "hour                                   int64\n",
       "hr_sin                               float64\n",
       "hr_cos                               float64\n",
       "mnth_sin                             float64\n",
       "mnth_cos                             float64\n",
       "eucl_distance                        float64\n",
       "manhattan_distance                   float64\n",
       "rotated_manhattan_distance           float64\n",
       "combined_distance                    float64\n",
       "JFK_airport                            int64\n",
       "Newark_airport                         int64\n",
       "LaGuardia_airport                      int64\n",
       "is_north                               int64\n",
       "dist_pickup_JFK                      float64\n",
       "dist_pickup_LGA                      float64\n",
       "dist_pickup_EWR                      float64\n",
       "dist_dropoff_JFK                     float64\n",
       "dist_dropoff_LGA                     float64\n",
       "dist_dropoff_EWR                     float64\n",
       "dtype: object"
      ]
     },
     "execution_count": 4,
     "metadata": {},
     "output_type": "execute_result"
    }
   ],
   "source": [
    "df.dtypes"
   ]
  },
  {
   "cell_type": "code",
   "execution_count": 5,
   "metadata": {},
   "outputs": [
    {
     "data": {
      "text/plain": [
       "Index(['pickup_longitude', 'pickup_latitude', 'passenger_count',\n",
       "       'borough_pickup', 'dropoff_longitude', 'dropoff_latitude',\n",
       "       'borough_dropoff', 'pickup_Manhattan_South', 'dropoff_Manhattan_South',\n",
       "       'pickup_Manhattan_North', 'dropoff_Manhattan_North',\n",
       "       'pickup_Manhattan_MNorth', 'dropoff_Manhattan_MNorth',\n",
       "       'pickup_Manhattan_MSouth', 'dropoff_Manhattan_MSouth', 'year', 'month',\n",
       "       'weekday', 'hr_sin', 'hr_cos', 'mnth_sin', 'mnth_cos',\n",
       "       'combined_distance', 'JFK_airport', 'Newark_airport',\n",
       "       'LaGuardia_airport', 'is_north', 'dist_pickup_JFK', 'dist_pickup_LGA',\n",
       "       'dist_pickup_EWR', 'dist_dropoff_JFK', 'dist_dropoff_LGA',\n",
       "       'dist_dropoff_EWR'],\n",
       "      dtype='object')"
      ]
     },
     "execution_count": 5,
     "metadata": {},
     "output_type": "execute_result"
    }
   ],
   "source": [
    "#df=pd.concat([df,pd.get_dummies(df[['weekday','borough_pickup','borough_dropoff']])],axis=1)\n",
    "#features = df.drop(columns=['fare_amount','weekday','borough_pickup','borough_dropoff',\n",
    "#                            'eucl_distance']).columns\n",
    "\n",
    "features = df.drop(columns=['fare_amount', 'eucl_distance', 'manhattan_distance', 'rotated_manhattan_distance',\n",
    "                            'hour', #'borough_pickup', 'borough_dropoff',\n",
    "                            'pickup_datetime', 'geometry_pickup', 'geometry_dropoff', 'zone_pickup', 'zone_dropoff', 'taxi_line', #Not included in \"large calculations\"\n",
    "                            #'pickup_longitude', 'pickup_latitude', 'dropoff_longitude','dropoff_latitude', #Coordinates\n",
    "                            #'JFK_airport', 'Newark_airport', 'LaGuardia_airport' #bool airports\n",
    "                            #'dist_pickup_JFK', 'dist_pickup_LGA', 'dist_pickup_EWR', 'dist_dropoff_JFK', 'dist_dropoff_LGA', 'dist_dropoff_EWR', #Test\n",
    "                             ]).columns                            \n",
    "features"
   ]
  },
  {
   "cell_type": "code",
   "execution_count": 6,
   "metadata": {},
   "outputs": [
    {
     "name": "stdout",
     "output_type": "stream",
     "text": [
      "X_train.shape: (87732, 33)\n",
      "X_test.shape:  (9749, 33)\n",
      "y_train.shape: (87732,)\n",
      "y_test.shape:  (9749,)\n"
     ]
    },
    {
     "data": {
      "text/plain": [
       "(None, None)"
      ]
     },
     "execution_count": 6,
     "metadata": {},
     "output_type": "execute_result"
    }
   ],
   "source": [
    "X = df[features]\n",
    "y = df['fare_amount']\n",
    "from sklearn.model_selection import train_test_split\n",
    "X_train, X_test, y_train, y_test = train_test_split(\n",
    "    X, y, test_size=0.1, random_state=39) #Kjøre CV i stedet?\n",
    "print('X_train.shape:', X_train.shape), print('X_test.shape: ', X_test.shape)\n",
    "print('y_train.shape:', y_train.shape), print('y_test.shape: ', y_test.shape)"
   ]
  },
  {
   "cell_type": "code",
   "execution_count": 7,
   "metadata": {},
   "outputs": [],
   "source": [
    "train_data = lgb.Dataset(X_train,y_train,\n",
    "                        categorical_feature=['borough_pickup', 'borough_dropoff', 'weekday'],\n",
    "                        free_raw_data=False) #In order to run cv after bst\n",
    "#Create validation data:\n",
    "test_data = lgb.Dataset(X_test,y_test,\n",
    "                        categorical_feature=['borough_pickup', 'borough_dropoff', 'weekday'])\n",
    "\n",
    "#https://lightgbm.readthedocs.io/en/latest/Python-API.html#scikit-learn-api\n",
    "params = {'boosting_type': 'gbdt', 'objective':'regression', \n",
    "          'max_depth': 10,\n",
    "          'min_data_in_leaf': 1, \n",
    "          'num_leaves': 127,\n",
    "          'metric': 'rmse'}\n",
    "evals_result = {}\n",
    "num_round = 200\n",
    "esr = 10 # https://lightgbm.readthedocs.io/en/latest/Python-Intro.html#early-stopping"
   ]
  },
  {
   "cell_type": "code",
   "execution_count": 8,
   "metadata": {},
   "outputs": [
    {
     "name": "stdout",
     "output_type": "stream",
     "text": [
      "Train data:\n",
      "MAE: 1.34, RMSE: 2.21\n",
      "Test data:\n",
      "MAE: 1.66, RMSE: 3.86\n"
     ]
    },
    {
     "data": {
      "image/png": "[encoded data removed]",
      "text/plain": [
       "<Figure size 432x504 with 1 Axes>"
      ]
     },
     "metadata": {
      "needs_background": "light"
     },
     "output_type": "display_data"
    },
    {
     "data": {
      "image/png": "[encoded data removed]",
      "text/plain": [
       "<Figure size 432x288 with 1 Axes>"
      ]
     },
     "metadata": {
      "needs_background": "light"
     },
     "output_type": "display_data"
    }
   ],
   "source": [
    "bst = lgb.train(params, train_data, num_round,  valid_sets=[test_data],\n",
    "                evals_result=evals_result, verbose_eval=False,\n",
    "               early_stopping_rounds=esr)\n",
    "#Predict\n",
    "pred_y_train = bst.predict(X_train)\n",
    "pred_y_test = bst.predict(X_test)#, num_iteration=gbm.best_iteration)\n",
    "\n",
    "lgb.plot_importance(bst,figsize=(6,7))\n",
    "lgb.plot_metric(evals_result)\n",
    "\n",
    "mae_train=(mean_absolute_error(y_train, pred_y_train))\n",
    "mae_test=(mean_absolute_error(y_test, pred_y_test))\n",
    "rmse_train=(np.sqrt(mean_squared_error(y_train, pred_y_train)))\n",
    "rmse_test=(np.sqrt(mean_squared_error(y_test, pred_y_test)))\n",
    "print('Train data:\\nMAE: {0:.3g}, RMSE: {1:.3g}'.format(mae_train, rmse_train))\n",
    "print('Test data:\\nMAE: {0:.3g}, RMSE: {1:.3g}'.format(mae_test, rmse_test))"
   ]
  },
  {
   "cell_type": "code",
   "execution_count": 9,
   "metadata": {},
   "outputs": [
    {
     "name": "stdout",
     "output_type": "stream",
     "text": [
      "3.9808369117422537\n"
     ]
    }
   ],
   "source": [
    "#Cross-validation: Note: https://stackoverflow.com/questions/49774825/python-lightgbm-cross-validation-how-to-use-lightgbm-cv-for-regression\n",
    "bst_cv = lgb.cv(params, train_data, num_round, nfold=5, metrics='rmse', \n",
    "       early_stopping_rounds=esr,stratified=False)\n",
    "print(min(bst_cv['rmse-mean']))"
   ]
  },
  {
   "cell_type": "markdown",
   "metadata": {},
   "source": [
    "\n",
    "### Random search"
   ]
  },
  {
   "cell_type": "code",
   "execution_count": 10,
   "metadata": {},
   "outputs": [
    {
     "data": {
      "text/plain": [
       "{'max_depth': [2, 4, 5, 6, 8, 10, 15, 20, 30],\n",
       " 'num_leaves': [15, 31, 63, 127, 255, 511, 1023, 2047, 4095],\n",
       " 'min_data_in_leaf': [1],\n",
       " 'learning_rate': [0.1]}"
      ]
     },
     "execution_count": 10,
     "metadata": {},
     "output_type": "execute_result"
    }
   ],
   "source": [
    "random_grid = {'max_depth': [2,4,5,6,8,10,15,20,30],\n",
    "               'num_leaves': [15, 31, 63, 127, 255, 511, 1023, 2047, 4095],\n",
    "               'min_data_in_leaf': [1],\n",
    "               'learning_rate': [0.1]\n",
    "              }\n",
    "random_grid"
   ]
  },
  {
   "cell_type": "code",
   "execution_count": 11,
   "metadata": {},
   "outputs": [
    {
     "name": "stdout",
     "output_type": "stream",
     "text": [
      "Fitting 3 folds for each of 10 candidates, totalling 30 fits\n"
     ]
    },
    {
     "name": "stderr",
     "output_type": "stream",
     "text": [
      "[Parallel(n_jobs=-1)]: Using backend LokyBackend with 4 concurrent workers.\n",
      "[Parallel(n_jobs=-1)]: Done  30 out of  30 | elapsed:  2.0min finished\n"
     ]
    },
    {
     "name": "stdout",
     "output_type": "stream",
     "text": [
      "{'num_leaves': 127, 'min_data_in_leaf': 1, 'max_depth': 30, 'learning_rate': 0.1}\n",
      "-1.7234961616245728\n"
     ]
    }
   ],
   "source": [
    "estimator = lgb.LGBMRegressor()\n",
    "\n",
    "# Random search of parameters, using 3 fold cross validation, \n",
    "# search across 100 different combinations, and use all available cores\n",
    "random_search = RandomizedSearchCV(estimator = estimator, param_distributions = random_grid, \n",
    "                               cv = 3, n_jobs = -1, verbose=2,\n",
    "                               scoring='neg_mean_absolute_error')\n",
    "\n",
    "# Fit the random search model\n",
    "random_search.fit(X_train, y_train)\n",
    "\n",
    "print(random_search.best_params_)\n",
    "print(random_search.best_score_)"
   ]
  },
  {
   "cell_type": "markdown",
   "metadata": {},
   "source": [
    "### Grid search"
   ]
  },
  {
   "cell_type": "code",
   "execution_count": 12,
   "metadata": {},
   "outputs": [
    {
     "data": {
      "text/plain": [
       "{'max_depth': [2, 4, 5, 6, 8, 10, 15, 20, 30],\n",
       " 'num_leaves': [15, 31, 63, 127, 255, 511, 1023, 2047, 4095],\n",
       " 'min_data_in_leaf': [1],\n",
       " 'learning_rate': [0.1]}"
      ]
     },
     "execution_count": 12,
     "metadata": {},
     "output_type": "execute_result"
    }
   ],
   "source": [
    "param_grid = {'max_depth': [2,4,5,6,8,10,15,20,30],\n",
    "               'num_leaves': [15, 31, 63, 127, 255, 511, 1023, 2047, 4095],\n",
    "               'min_data_in_leaf': [1],\n",
    "               'learning_rate': [0.1]\n",
    "              }\n",
    "param_grid"
   ]
  },
  {
   "cell_type": "code",
   "execution_count": 13,
   "metadata": {},
   "outputs": [
    {
     "name": "stdout",
     "output_type": "stream",
     "text": [
      "Fitting 5 folds for each of 81 candidates, totalling 405 fits\n"
     ]
    },
    {
     "name": "stderr",
     "output_type": "stream",
     "text": [
      "[Parallel(n_jobs=-1)]: Using backend LokyBackend with 4 concurrent workers.\n",
      "[Parallel(n_jobs=-1)]: Done  33 tasks      | elapsed:   31.0s\n",
      "[Parallel(n_jobs=-1)]: Done 154 tasks      | elapsed:  3.8min\n",
      "[Parallel(n_jobs=-1)]: Done 357 tasks      | elapsed: 24.6min\n",
      "[Parallel(n_jobs=-1)]: Done 405 out of 405 | elapsed: 32.3min finished\n"
     ]
    },
    {
     "data": {
      "text/plain": [
       "{'learning_rate': 0.1,\n",
       " 'max_depth': 30,\n",
       " 'min_data_in_leaf': 1,\n",
       " 'num_leaves': 255}"
      ]
     },
     "execution_count": 13,
     "metadata": {},
     "output_type": "execute_result"
    }
   ],
   "source": [
    "estimator = lgb.LGBMRegressor()\n",
    "\n",
    "grid_search = GridSearchCV(estimator = estimator, param_grid = param_grid, \n",
    "                          cv = 5, n_jobs = -1, verbose = 2,\n",
    "                          scoring='neg_mean_absolute_error')\n",
    "# Fit the grid search to the data\n",
    "grid_search.fit(X_train, y_train)\n",
    "\n",
    "grid_search.best_params_"
   ]
  },
  {
   "cell_type": "markdown",
   "metadata": {},
   "source": [
    "When performing the grid search with more data, different parameters are obtained. The final parameters in modelling.ipynb may hence be different from those given above (which are based on a training set of ~90k rows). "
   ]
  },
  {
   "cell_type": "markdown",
   "metadata": {},
   "source": [
    "### Bayesian optimization\n",
    "\n",
    "**To be implemented**\n"
   ]
  }
 ],
 "metadata": {
  "kernelspec": {
   "display_name": "Python 3",
   "language": "python",
   "name": "python3"
  },
  "language_info": {
   "codemirror_mode": {
    "name": "ipython",
    "version": 3
   },
   "file_extension": ".py",
   "mimetype": "text/x-python",
   "name": "python",
   "nbconvert_exporter": "python",
   "pygments_lexer": "ipython3",
   "version": "3.6.8"
  }
 },
 "nbformat": 4,
 "nbformat_minor": 2
}
